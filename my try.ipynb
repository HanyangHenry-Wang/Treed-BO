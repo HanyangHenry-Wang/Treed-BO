{
 "cells": [
  {
   "cell_type": "code",
   "execution_count": 3,
   "metadata": {},
   "outputs": [],
   "source": [
    "import matplotlib.pyplot as plt\n",
    "import numpy as np\n",
    "from sklearn.tree import DecisionTreeRegressor\n",
    "from sklearn.tree import plot_tree\n",
    "import GPy"
   ]
  },
  {
   "cell_type": "code",
   "execution_count": 2,
   "metadata": {},
   "outputs": [],
   "source": [
    "# Create a random dataset\n",
    "rng = np.random.RandomState(1)\n",
    "X = np.array([[0.1,1.2],[1.1,0.9],[1.3,1.9],[0.5,2.3],[1.8,0.7],[2.5,1.1],[2.7,2.7],[1.9,2.4]])  #the boundary is [[0,3],[0,3]]\n",
    "Y = np.array([1, 1.2, 2.1, 2.2, 3.3, 3.4, 4.3,4.5]).ravel()\n",
    "\n",
    "# Fit regression model\n",
    "# regr_1 = DecisionTreeRegressor(max_depth=2)\n",
    "# regr_1.fit(X, Y)\n",
    "\n",
    "# plt.figure(figsize=(12,12))  # set plot size (denoted in inches)\n",
    "# plot_tree(regr_1, fontsize=10)\n",
    "# plt.show()"
   ]
  },
  {
   "cell_type": "code",
   "execution_count": 5,
   "metadata": {},
   "outputs": [],
   "source": [
    "from partitation import tree_partation"
   ]
  },
  {
   "cell_type": "code",
   "execution_count": 6,
   "metadata": {},
   "outputs": [],
   "source": [
    "my_class = tree_partation(X,Y,2)"
   ]
  },
  {
   "cell_type": "code",
   "execution_count": 11,
   "metadata": {},
   "outputs": [],
   "source": [
    "my_class.start()"
   ]
  },
  {
   "cell_type": "code",
   "execution_count": 12,
   "metadata": {},
   "outputs": [
    {
     "data": {
      "text/plain": [
       "array([-10., -10., -10., -10., -10., -10., -10.])"
      ]
     },
     "execution_count": 12,
     "metadata": {},
     "output_type": "execute_result"
    }
   ],
   "source": [
    "my_class.dim_record"
   ]
  },
  {
   "cell_type": "code",
   "execution_count": 4,
   "metadata": {},
   "outputs": [],
   "source": [
    "np.random.seed(4)\n",
    "rng = np.random.RandomState(1)\n",
    "X_sample1=np.array([[0]])\n",
    "Y_sample1=np.array([[0]])\n",
    "X = np.sort(5 * rng.rand(24, 1), axis=0)\n",
    "kernel1 = GPy.kern.RBF(input_dim=1,variance=1,lengthscale=1.5)\n",
    "m1 = GPy.models.GPRegression(X_sample1,Y_sample1,kernel1)\n",
    "m1.Gaussian_noise.variance.fix(0.0)\n",
    "y = m1.posterior_samples_f(X.reshape(-1,1),size=1)\n",
    "y = y.reshape(-1,) "
   ]
  },
  {
   "cell_type": "code",
   "execution_count": 6,
   "metadata": {},
   "outputs": [
    {
     "data": {
      "text/plain": [
       "(24,)"
      ]
     },
     "execution_count": 6,
     "metadata": {},
     "output_type": "execute_result"
    }
   ],
   "source": [
    "X.shape\n",
    "y.shape"
   ]
  },
  {
   "cell_type": "code",
   "execution_count": null,
   "metadata": {},
   "outputs": [],
   "source": []
  }
 ],
 "metadata": {
  "kernelspec": {
   "display_name": "Python 3.9.13 64-bit ('botorch_env': conda)",
   "language": "python",
   "name": "python3"
  },
  "language_info": {
   "codemirror_mode": {
    "name": "ipython",
    "version": 3
   },
   "file_extension": ".py",
   "mimetype": "text/x-python",
   "name": "python",
   "nbconvert_exporter": "python",
   "pygments_lexer": "ipython3",
   "version": "3.9.13"
  },
  "orig_nbformat": 4,
  "vscode": {
   "interpreter": {
    "hash": "990fbbf643c2ead2b6bce0113b5641727615d57fb5a44e21afc8ec67e911e210"
   }
  }
 },
 "nbformat": 4,
 "nbformat_minor": 2
}
